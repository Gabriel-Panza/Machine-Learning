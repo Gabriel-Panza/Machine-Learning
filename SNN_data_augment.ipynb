{
 "cells": [
  {
   "cell_type": "code",
   "execution_count": 2,
   "metadata": {},
   "outputs": [
    {
     "name": "stdout",
     "output_type": "stream",
     "text": [
      "WARNING:tensorflow:From c:\\Users\\Gabriel Panza\\AppData\\Local\\Programs\\Python\\Python310\\lib\\site-packages\\keras\\src\\losses.py:2976: The name tf.losses.sparse_softmax_cross_entropy is deprecated. Please use tf.compat.v1.losses.sparse_softmax_cross_entropy instead.\n",
      "\n"
     ]
    }
   ],
   "source": [
    "import nibabel as nib\n",
    "import numpy as np\n",
    "import os\n",
    "import pandas as pd\n",
    "import tensorflow as tf\n",
    "import matplotlib.pyplot as plt\n",
    "from skimage.transform import resize\n",
    "from tqdm import tqdm\n",
    "from tensorflow.keras import layers, models, callbacks, metrics, Input, Model\n",
    "from tensorflow.keras.preprocessing.image import ImageDataGenerator\n",
    "from sklearn.metrics import confusion_matrix, classification_report, ConfusionMatrixDisplay"
   ]
  },
  {
   "cell_type": "code",
   "execution_count": 3,
   "metadata": {},
   "outputs": [],
   "source": [
    "# Função que carrega os dados\n",
    "def load_data_with_pairs(folder, csv_file_path, csv_pairs_path, type):\n",
    "    if not os.path.exists(folder):\n",
    "        print(f\"A pasta {folder} não existe.\")\n",
    "        return [], [], [], [], [], [], [], []\n",
    "\n",
    "    # Abre o arquivo .csv com os dados e o arquivo com os pares (original e contra-lateral)\n",
    "    df = pd.read_csv(csv_file_path)\n",
    "    df_pairs = pd.read_csv(csv_pairs_path)\n",
    "\n",
    "    patient_ids = []\n",
    "\n",
    "    images_by_group = {}\n",
    "    labels_by_group = {}\n",
    "\n",
    "    ignored_patients = ['sub-02A13', 'sub-03C08']\n",
    "\n",
    "    current_patient_id = None\n",
    "    for _, row in df.iterrows():\n",
    "        patient_id = row['Nome_P']\n",
    "        patch_id = row['numeracao']\n",
    "        label = int(row['label'])\n",
    "\n",
    "        if patient_id in ignored_patients:\n",
    "            continue\n",
    "        \n",
    "        if patient_id != current_patient_id:\n",
    "            current_patient_id = patient_id\n",
    "            labels_by_group[patient_id] = {}\n",
    "\n",
    "        labels_by_group[patient_id][patch_id] = label\n",
    "\n",
    "    for _, row in tqdm(df.iterrows(), desc=\"Carregamento de arquivos NIfTI...\"):\n",
    "        patient_id = row['Nome_P']\n",
    "        patch_id = row['numeracao']\n",
    "\n",
    "        if patient_id in ignored_patients:\n",
    "            continue\n",
    "        \n",
    "        if patient_id not in images_by_group:\n",
    "            images_by_group[patient_id] = {}\n",
    "        \n",
    "        image_file = f'{patient_id}_{patch_id}_recorte_{type}.nii.gz'\n",
    "        try:\n",
    "            img_path = os.path.join(folder, image_file)\n",
    "            image_data = nib.load(img_path).get_fdata()\n",
    "            image_data = np.expand_dims(image_data, axis=-1)  # Expandir a dimensão do canal\n",
    "            images_by_group[patient_id][patch_id] = image_data  # Armazenar a imagem no dicionário\n",
    "\n",
    "        except Exception as e:\n",
    "            print(f\"Erro ao carregar {image_file}: {e}\")\n",
    "            continue\n",
    "\n",
    "    images_original = {}\n",
    "    images_opposite = {}\n",
    "    labels_pair = {}\n",
    "    \n",
    "    for _, row in df_pairs.iterrows():\n",
    "        original_patch_id = row['patch_identificacao']\n",
    "        opposite_patch_id = row['patch_oposto']\n",
    "        patient_id = row['Nome_P']\n",
    "        \n",
    "        if patient_id in images_by_group:\n",
    "            if patient_id not in images_original:\n",
    "                images_original[patient_id] = {}\n",
    "            if patient_id not in images_opposite:\n",
    "                images_opposite[patient_id] = {}\n",
    "            if patient_id not in labels_pair.keys():\n",
    "                labels_pair[patient_id] = []\n",
    "            inseriu = False\n",
    "            \n",
    "            if original_patch_id in images_by_group[patient_id].keys() and original_patch_id not in images_opposite[patient_id].keys():\n",
    "                images_original[patient_id][original_patch_id] = images_by_group[patient_id][original_patch_id]\n",
    "                inseriu = True\n",
    "                \n",
    "            if opposite_patch_id in images_by_group[patient_id].keys() and opposite_patch_id not in images_original[patient_id].keys():\n",
    "                images_opposite[patient_id][opposite_patch_id] = images_by_group[patient_id][opposite_patch_id]\n",
    "                inseriu = True\n",
    "            \n",
    "            if inseriu:    \n",
    "                if labels_by_group[patient_id][original_patch_id] != labels_by_group[patient_id][opposite_patch_id]:\n",
    "                    labels_pair[patient_id].append(1)\n",
    "                else:\n",
    "                    labels_pair[patient_id].append(0)\n",
    "            \n",
    "            patient_ids.append(patient_id)\n",
    "            \n",
    "    # Verificar as formas finais\n",
    "    unique_patients = set(patient_ids)\n",
    "    patients_to_remove = [patient_id for patient_id in images_by_group if patient_id not in unique_patients]\n",
    "    for patient_id in patients_to_remove:\n",
    "        del images_by_group[patient_id]\n",
    "        \n",
    "    print(f\"Total de pacientes: {len(unique_patients)}\")\n",
    "    for patient_id, images in images_by_group.items():\n",
    "        print(f\"Paciente {patient_id}: Total de recortes: {len(images)}\")\n",
    "    \n",
    "    return images_original, images_opposite, labels_pair"
   ]
  },
  {
   "cell_type": "code",
   "execution_count": 4,
   "metadata": {},
   "outputs": [],
   "source": [
    "# Função para aumentar as imagens da classe minoritária\n",
    "def augment_data(images, images_opposite, labels, augment_factor):\n",
    "    datagen = ImageDataGenerator(\n",
    "        rotation_range=20,  # Rotação aleatória até 20 graus\n",
    "        width_shift_range=0.2,  # Deslocamento horizontal aleatório até 20% da largura\n",
    "        height_shift_range=0.2,  # Deslocamento vertical aleatório até 20% da altura\n",
    "        fill_mode='nearest'  # Preencher os pixels faltantes com o valor mais próximo\n",
    "    )\n",
    "\n",
    "    augmented_images = []\n",
    "    augmented_images_opposite = []\n",
    "    augmented_labels = []\n",
    "\n",
    "    for img, img_opposite, label in zip(images, images_opposite, labels):\n",
    "        img = np.expand_dims(img, axis=0)\n",
    "        augment_iter = datagen.flow(img, batch_size=1)\n",
    "        img_opposite = np.expand_dims(img_opposite, axis=0)\n",
    "        augment_iter_opposite = datagen.flow(img, batch_size=1)\n",
    "        \n",
    "        # Gerar mais imagens de augmentação\n",
    "        for _ in range(augment_factor):\n",
    "            augmented_img = next(augment_iter)[0]\n",
    "            augmented_img_opposite = next(augment_iter_opposite)[0]\n",
    "            augmented_images.append(augmented_img)\n",
    "            augmented_images_opposite.append(augmented_img_opposite)\n",
    "            augmented_labels.append(label)\n",
    "\n",
    "    return np.array(augmented_images), np.array(augmented_images_opposite), np.array(augmented_labels)\n"
   ]
  },
  {
   "cell_type": "code",
   "execution_count": 5,
   "metadata": {},
   "outputs": [],
   "source": [
    "# Função para filtrar as imagens por paciente\n",
    "def select_by_patients(patients, all_images_original, all_images_opposite, all_labels):\n",
    "    selected_images_original = []\n",
    "    selected_images_opposite = []\n",
    "    selected_labels = []\n",
    "    \n",
    "    for patient in patients:\n",
    "        # Verificar se o paciente existe em all_images_original e all_images_opposite antes de acessar\n",
    "        if patient in all_images_original and patient in all_images_opposite:\n",
    "            selected_images_original.extend(all_images_original[patient])\n",
    "            selected_images_opposite.extend(all_images_opposite[patient])\n",
    "            selected_labels.extend(all_labels[patient])\n",
    "        else:\n",
    "            print(f\"Paciente {patient} não encontrado em uma das listas de imagens.\")\n",
    "    \n",
    "    return np.array(selected_images_original), np.array(selected_images_opposite), np.array(selected_labels)"
   ]
  },
  {
   "cell_type": "code",
   "execution_count": 6,
   "metadata": {},
   "outputs": [],
   "source": [
    "# Função para preparar os dados para treino, validação e teste\n",
    "def prepare_data_for_training_balanced(images_original, images_opposite, labels_pair, train_size=0.7, validation_size=0.2, test_size=0.1, augment_factor=9):\n",
    "    balanced_images_original = {}\n",
    "    balanced_images_opposite = {}\n",
    "    balanced_labels = {}\n",
    "\n",
    "    for patient_id in images_original:\n",
    "        class_1_labels = []\n",
    "        class_0_labels = []\n",
    "        class_1_original = {}\n",
    "        class_0_original = {}\n",
    "        class_1_opposite = {}\n",
    "        class_0_opposite = {}\n",
    "        \n",
    "        class_1_original[patient_id] = {}\n",
    "        class_0_original[patient_id] = {}\n",
    "        class_1_opposite[patient_id] = {}\n",
    "        class_0_opposite[patient_id] = {}\n",
    "        index=0\n",
    "        \n",
    "        # Iterar sobre os patches e dividir as classes 0 e 1 com base nas labels\n",
    "        for label in labels_pair[patient_id]:\n",
    "            patch_original = list(images_original[patient_id].keys())[index]\n",
    "            patch_opposite = list(images_opposite[patient_id].keys())[index]\n",
    "            index+=1\n",
    "            \n",
    "            if label == 1:\n",
    "                class_1_labels.append(label)\n",
    "                class_1_original[patient_id][patch_original] = images_original[patient_id][patch_original]\n",
    "                class_1_opposite[patient_id][patch_opposite] = images_opposite[patient_id][patch_opposite]\n",
    "            else:\n",
    "                class_0_labels.append(label)\n",
    "                class_0_original[patient_id][patch_original] = images_original[patient_id][patch_original]\n",
    "                class_0_opposite[patient_id][patch_opposite] = images_opposite[patient_id][patch_opposite]\n",
    "          \n",
    "        class_1_count = len(class_1_labels)\n",
    "        print(f\"Paciente {patient_id}: Total de recortes com labels 1: {class_1_count}\")\n",
    "\n",
    "        # Fazer undersampling da classe majoritária (label 0) para igualar ao número de exemplos da classe 1\n",
    "        class_0_count = len(class_0_labels)\n",
    "        if class_0_count > class_1_count:\n",
    "            sampled_class_0_patches_original = list(class_0_original[patient_id].keys())[:class_1_count]\n",
    "            sampled_class_0_patches_opposite = list(class_0_opposite[patient_id].keys())[:class_1_count]\n",
    "            class_0_original_modified = {}\n",
    "            class_0_original_modified[patient_id] = {} \n",
    "            class_0_opposite_modified = {}\n",
    "            class_0_opposite_modified[patient_id] = {}\n",
    "            \n",
    "            for patch_id in sampled_class_0_patches_original:\n",
    "                class_0_original_modified[patient_id][patch_id] = class_0_original[patient_id][patch_id] \n",
    "            for patch_id in sampled_class_0_patches_opposite:\n",
    "                class_0_opposite_modified[patient_id][patch_id] = class_0_opposite[patient_id][patch_id]\n",
    "            class_0_labels = [0] * class_1_count\n",
    "\n",
    "        # Adicionar imagens e labels balanceados ao dicionário final\n",
    "        balanced_images_original[patient_id] = list(class_1_original[patient_id].values()) + list(class_0_original_modified[patient_id].values())\n",
    "        balanced_images_opposite[patient_id] = list(class_1_opposite[patient_id].values()) + list(class_0_opposite_modified[patient_id].values())\n",
    "        balanced_labels[patient_id] = class_1_labels + class_0_labels\n",
    "\n",
    "\n",
    "    for patient_id, images in balanced_images_original.items():\n",
    "        print(f\"Paciente {patient_id}: Total de recortes (label 1 + label 0): {len(images)}\")\n",
    "        \n",
    "    # Separar os dados por conjunto (treino, validação, teste)\n",
    "    train_patients = ['sub-41D08', 'sub-44H05']\n",
    "    val_patients = ['sub-16G09']\n",
    "    test_patients = ['sub-25B08']\n",
    "    \n",
    "    X_train_original, X_train_opposite, y_train = select_by_patients(train_patients, balanced_images_original, balanced_images_opposite, balanced_labels)\n",
    "    X_val_original, X_val_opposite, y_val = select_by_patients(val_patients, balanced_images_original, balanced_images_opposite, balanced_labels)\n",
    "    X_test_original, X_test_opposite, y_test = select_by_patients(test_patients, balanced_images_original, balanced_images_opposite, balanced_labels)\n",
    "\n",
    "    # Aplicar data augmentation nas imagens\n",
    "    X_train_original_, X_train_opposite_, y_train = augment_data(X_train_original, X_train_opposite, y_train, augment_factor=augment_factor)\n",
    "    X_val_original_, X_val_opposite_, y_val = augment_data(X_val_original, X_val_opposite, y_val, augment_factor=augment_factor)\n",
    "    X_test_original_, X_test_opposite_, y_test = augment_data(X_test_original, X_test_opposite, y_test, augment_factor=augment_factor)\n",
    "    \n",
    "    # Contagem das labels no conjunto de treino, validação e teste\n",
    "    print(f\"Total de pares de recortes no treino ({augment_factor}*{train_patients}) com label 1: {sum(y_train == 1)}\")\n",
    "    print(f\"Total de pares de recortes no treino ({augment_factor}*{train_patients}) com label 0: {sum(y_train == 0)}\")\n",
    "    print(f\"Total de pares de recortes na validação ({augment_factor}*{val_patients}) com label 1: {sum(y_val == 1)}\")\n",
    "    print(f\"Total de pares de recortes na validação ({augment_factor}*{val_patients}) com label 0: {sum(y_val == 0)}\")\n",
    "    print(f\"Total de pares de recortes no teste com ({augment_factor}*{test_patients}) label 1: {sum(y_test == 1)}\")\n",
    "    print(f\"Total de pares de recortes no teste com ({augment_factor}*{test_patients}) label 0: {sum(y_test == 0)}\")\n",
    "\n",
    "    return X_train_original_, X_train_opposite_, X_val_original_, X_val_opposite_, X_test_original_, X_test_opposite_, y_train, y_val, y_test, X_test_original, X_test_opposite"
   ]
  },
  {
   "cell_type": "code",
   "execution_count": 29,
   "metadata": {},
   "outputs": [],
   "source": [
    "# Função para construir o modelo CNN 2D\n",
    "def build_cnn_model(input_shape):\n",
    "    model = models.Sequential()\n",
    "    model.add(layers.Conv2D(64, (3,3), data_format=\"channels_last\", activation='relu', input_shape=input_shape))\n",
    "    model.add(layers.MaxPooling2D((2,2)))\n",
    "    model.add(layers.Dropout(0.5))\n",
    "        \n",
    "    model.add(layers.Conv2D(128, (3,3), data_format=\"channels_last\", activation='relu'))\n",
    "    model.add(layers.MaxPooling2D((2,2)))\n",
    "    model.add(layers.Dropout(0.5))\n",
    "\n",
    "    model.add(layers.Flatten())\n",
    "    model.add(layers.Dense(128, activation='relu'))\n",
    "\n",
    "    return model"
   ]
  },
  {
   "cell_type": "code",
   "execution_count": 30,
   "metadata": {},
   "outputs": [],
   "source": [
    "# Função para construir a rede siamesa\n",
    "def build_siamese_model(input_shape):\n",
    "    input_original = Input(shape=input_shape)\n",
    "    input_opposite = Input(shape=input_shape)\n",
    "\n",
    "    cnn_model = build_cnn_model(input_shape)\n",
    "    output_original = cnn_model(input_original)\n",
    "    output_opposite = cnn_model(input_opposite)\n",
    "\n",
    "    # Concatenar as duas saídas (Lado esquerdo + Contra-lateral)\n",
    "    concatenated = layers.Concatenate()([output_original, output_opposite])\n",
    "    \n",
    "    # Adicionar uma camada densa final para classificação\n",
    "    output = layers.Dense(1, activation='sigmoid')(concatenated)\n",
    "    \n",
    "    # Criar e compilar o modelo siames\n",
    "    siamese_model = Model(inputs=[input_original, input_opposite], outputs=output)\n",
    "    siamese_model.compile(optimizer=tf.keras.optimizers.SGD(learning_rate=0.001, momentum=0.9), loss='binary_crossentropy', metrics=['accuracy', metrics.Precision(name=\"precision\"), metrics.Recall(name=\"recall\"), metrics.AUC(name=\"auc\")])\n",
    "\n",
    "    return siamese_model\n"
   ]
  },
  {
   "cell_type": "code",
   "execution_count": 31,
   "metadata": {},
   "outputs": [],
   "source": [
    "# Função para plotar gráficos de loss e accuracy\n",
    "def plot_training_history(history):\n",
    "    plt.figure(figsize=(12, 4))\n",
    "\n",
    "    # Plot Loss\n",
    "    plt.subplot(1, 2, 1)\n",
    "    plt.plot(history.history['loss'], label='Training Loss')\n",
    "    plt.plot(history.history['val_loss'], label='Validation Loss')\n",
    "    plt.title('Loss over Epochs')\n",
    "    plt.xlabel('Epochs')\n",
    "    plt.ylabel('Loss')\n",
    "    plt.legend()\n",
    "\n",
    "    # Plot Accuracy\n",
    "    plt.subplot(1, 2, 2)\n",
    "    plt.plot(history.history['accuracy'], label='Training Accuracy')\n",
    "    plt.plot(history.history['val_accuracy'], label='Validation Accuracy')\n",
    "    plt.title('Accuracy over Epochs')\n",
    "    plt.xlabel('Epochs')\n",
    "    plt.ylabel('Accuracy')\n",
    "    plt.legend()\n",
    "\n",
    "    plt.show()\n"
   ]
  },
  {
   "cell_type": "code",
   "execution_count": 32,
   "metadata": {},
   "outputs": [],
   "source": [
    "# Função para plotar a matriz de confusão\n",
    "def plot_confusion_matrix(y_true, y_pred):\n",
    "    cm = confusion_matrix(y_true, y_pred)\n",
    "    disp = ConfusionMatrixDisplay(confusion_matrix=cm)\n",
    "    disp.plot(cmap=plt.cm.Blues)\n",
    "    plt.title('Confusion Matrix')\n",
    "    plt.show()\n"
   ]
  },
  {
   "cell_type": "code",
   "execution_count": 11,
   "metadata": {},
   "outputs": [
    {
     "name": "stderr",
     "output_type": "stream",
     "text": [
      "Carregamento de arquivos NIfTI...: 66552it [09:04, 122.32it/s]\n"
     ]
    },
    {
     "name": "stdout",
     "output_type": "stream",
     "text": [
      "Total de pacientes: 4\n",
      "Paciente sub-16G09: Total de recortes: 1828\n",
      "Paciente sub-25B08: Total de recortes: 1936\n",
      "Paciente sub-41D08: Total de recortes: 1780\n",
      "Paciente sub-44H05: Total de recortes: 1900\n"
     ]
    }
   ],
   "source": [
    "# Definir caminho e forma\n",
    "input_folder = 'recortes_T1_50x50'\n",
    "arquivo_csv = 'Base_Informações/Base_informaçΣes_50x50_T1.csv'\n",
    "arquivo_csv_com_oposto = 'Base_Informações/Base_informações_com_previsao_50x50_T1.csv'\n",
    "\n",
    "# Carregar os dados (utilizando a função load_data modificada)\n",
    "X_original, X_opposite, y = load_data_with_pairs(input_folder, arquivo_csv, arquivo_csv_com_oposto, \"T1\")\n"
   ]
  },
  {
   "cell_type": "code",
   "execution_count": 12,
   "metadata": {},
   "outputs": [
    {
     "name": "stdout",
     "output_type": "stream",
     "text": [
      "Paciente sub-16G09: Total de recortes com labels 1: 86\n",
      "Paciente sub-25B08: Total de recortes com labels 1: 52\n",
      "Paciente sub-41D08: Total de recortes com labels 1: 76\n",
      "Paciente sub-44H05: Total de recortes com labels 1: 132\n",
      "Paciente sub-16G09: Total de recortes (label 1 + label 0): 172\n",
      "Paciente sub-25B08: Total de recortes (label 1 + label 0): 104\n",
      "Paciente sub-41D08: Total de recortes (label 1 + label 0): 152\n",
      "Paciente sub-44H05: Total de recortes (label 1 + label 0): 264\n",
      "Total de pares de recortes no treino (9*['sub-41D08', 'sub-44H05']) com label 1: 1872\n",
      "Total de pares de recortes no treino (9*['sub-41D08', 'sub-44H05']) com label 0: 1872\n",
      "Total de pares de recortes na validação (9*['sub-16G09']) com label 1: 774\n",
      "Total de pares de recortes na validação (9*['sub-16G09']) com label 0: 774\n",
      "Total de pares de recortes no teste com (9*['sub-25B08']) label 1: 468\n",
      "Total de pares de recortes no teste com (9*['sub-25B08']) label 0: 468\n"
     ]
    }
   ],
   "source": [
    "# Prepare data for training\n",
    "X_train_original, X_train_opposite, X_valid_original, X_valid_opposite, X_test_original, X_test_opposite, y_train, y_valid, y_test, X_test_original_sem_data_augment, X_test_opposite_sem_data_augment = prepare_data_for_training_balanced(X_original, X_opposite, y, train_size=0.7, validation_size=0.2, test_size=0.1)\n",
    "\n",
    "# Flipo as imagens opostas verticalmente\n",
    "for index in range(len(X_train_opposite)):\n",
    "    X_train_opposite[index] = np.flipud(X_train_opposite[index])\n",
    "for index in range(len(X_valid_opposite)):\n",
    "    X_valid_opposite[index] = np.flipud(X_valid_opposite[index])\n",
    "for index in range(len(X_test_opposite)):\n",
    "    X_test_opposite[index] = np.flipud(X_test_opposite[index])\n",
    "\n",
    "X_train_original /= 255\n",
    "X_train_opposite /= 255\n",
    "X_valid_original /= 255\n",
    "X_valid_opposite /= 255\n",
    "X_test_original /= 255\n",
    "X_test_opposite /= 255\n",
    "X_test_original_sem_data_augment /= 255\n",
    "X_test_opposite_sem_data_augment /= 255"
   ]
  },
  {
   "cell_type": "code",
   "execution_count": 33,
   "metadata": {},
   "outputs": [
    {
     "name": "stdout",
     "output_type": "stream",
     "text": [
      "Model: \"model_2\"\n",
      "__________________________________________________________________________________________________\n",
      " Layer (type)                Output Shape                 Param #   Connected to                  \n",
      "==================================================================================================\n",
      " input_5 (InputLayer)        [(None, 50, 50, 1)]          0         []                            \n",
      "                                                                                                  \n",
      " input_6 (InputLayer)        [(None, 50, 50, 1)]          0         []                            \n",
      "                                                                                                  \n",
      " sequential_2 (Sequential)   (None, 128)                  2057088   ['input_5[0][0]',             \n",
      "                                                                     'input_6[0][0]']             \n",
      "                                                                                                  \n",
      " concatenate_2 (Concatenate  (None, 256)                  0         ['sequential_2[0][0]',        \n",
      " )                                                                   'sequential_2[1][0]']        \n",
      "                                                                                                  \n",
      " dense_5 (Dense)             (None, 1)                    257       ['concatenate_2[0][0]']       \n",
      "                                                                                                  \n",
      "==================================================================================================\n",
      "Total params: 2057345 (7.85 MB)\n",
      "Trainable params: 2057345 (7.85 MB)\n",
      "Non-trainable params: 0 (0.00 Byte)\n",
      "__________________________________________________________________________________________________\n"
     ]
    }
   ],
   "source": [
    "# Construir e compilar o modelo CNN\n",
    "siamese_model = build_siamese_model(X_train_original[0].shape)\n",
    "siamese_model.summary()"
   ]
  },
  {
   "cell_type": "code",
   "execution_count": 34,
   "metadata": {},
   "outputs": [
    {
     "name": "stdout",
     "output_type": "stream",
     "text": [
      "Epoch 1/200\n",
      "117/117 [==============================] - 12s 96ms/step - loss: 0.6850 - accuracy: 0.5358 - precision: 0.5189 - recall: 0.9813 - auc: 0.6888 - val_loss: 0.6802 - val_accuracy: 0.5956 - val_precision: 0.5529 - val_recall: 1.0000 - val_auc: 0.7551\n",
      "Epoch 2/200\n",
      "117/117 [==============================] - 13s 107ms/step - loss: 0.6705 - accuracy: 0.6132 - precision: 0.5643 - recall: 0.9941 - auc: 0.7585 - val_loss: 0.6647 - val_accuracy: 0.6447 - val_precision: 0.5887 - val_recall: 0.9599 - val_auc: 0.7496\n",
      "Epoch 3/200\n",
      "117/117 [==============================] - 14s 121ms/step - loss: 0.6460 - accuracy: 0.6870 - precision: 0.6266 - recall: 0.9252 - auc: 0.7868 - val_loss: 0.6383 - val_accuracy: 0.6479 - val_precision: 0.6009 - val_recall: 0.8811 - val_auc: 0.7478\n",
      "Epoch 4/200\n",
      "117/117 [==============================] - 16s 133ms/step - loss: 0.6039 - accuracy: 0.7089 - precision: 0.6641 - recall: 0.8451 - auc: 0.8060 - val_loss: 0.6080 - val_accuracy: 0.6370 - val_precision: 0.6202 - val_recall: 0.7067 - val_auc: 0.7349\n",
      "Epoch 5/200\n",
      "117/117 [==============================] - 14s 121ms/step - loss: 0.5484 - accuracy: 0.7228 - precision: 0.6950 - recall: 0.7938 - auc: 0.8277 - val_loss: 0.6154 - val_accuracy: 0.6124 - val_precision: 0.6079 - val_recall: 0.6331 - val_auc: 0.7028\n",
      "Epoch 6/200\n",
      "117/117 [==============================] - 14s 124ms/step - loss: 0.4990 - accuracy: 0.7465 - precision: 0.7272 - recall: 0.7890 - auc: 0.8459 - val_loss: 0.6745 - val_accuracy: 0.5853 - val_precision: 0.5844 - val_recall: 0.5904 - val_auc: 0.6753\n",
      "Epoch 7/200\n",
      "117/117 [==============================] - 14s 119ms/step - loss: 0.4575 - accuracy: 0.7655 - precision: 0.7473 - recall: 0.8024 - auc: 0.8679 - val_loss: 0.7438 - val_accuracy: 0.5749 - val_precision: 0.5795 - val_recall: 0.5465 - val_auc: 0.6643\n",
      "Epoch 8/200\n",
      "117/117 [==============================] - 14s 116ms/step - loss: 0.4343 - accuracy: 0.7842 - precision: 0.7698 - recall: 0.8109 - auc: 0.8781 - val_loss: 0.8072 - val_accuracy: 0.6066 - val_precision: 0.5898 - val_recall: 0.7003 - val_auc: 0.6805\n",
      "Epoch 9/200\n",
      "117/117 [==============================] - 14s 119ms/step - loss: 0.4218 - accuracy: 0.7906 - precision: 0.7773 - recall: 0.8146 - auc: 0.8847 - val_loss: 0.8167 - val_accuracy: 0.6053 - val_precision: 0.5913 - val_recall: 0.6822 - val_auc: 0.6868\n",
      "Epoch 10/200\n",
      "117/117 [==============================] - 14s 119ms/step - loss: 0.4044 - accuracy: 0.8056 - precision: 0.7907 - recall: 0.8312 - auc: 0.8947 - val_loss: 0.8155 - val_accuracy: 0.6072 - val_precision: 0.6110 - val_recall: 0.5904 - val_auc: 0.6844\n",
      "Epoch 11/200\n",
      "117/117 [==============================] - 14s 119ms/step - loss: 0.3935 - accuracy: 0.8189 - precision: 0.8024 - recall: 0.8462 - auc: 0.9001 - val_loss: 0.8349 - val_accuracy: 0.6189 - val_precision: 0.6053 - val_recall: 0.6835 - val_auc: 0.7027\n",
      "Epoch 12/200\n",
      "117/117 [==============================] - 14s 118ms/step - loss: 0.3770 - accuracy: 0.8291 - precision: 0.8117 - recall: 0.8568 - auc: 0.9094 - val_loss: 0.8759 - val_accuracy: 0.6066 - val_precision: 0.6101 - val_recall: 0.5904 - val_auc: 0.6854\n",
      "Epoch 13/200\n",
      "117/117 [==============================] - 14s 120ms/step - loss: 0.3730 - accuracy: 0.8293 - precision: 0.8137 - recall: 0.8542 - auc: 0.9105 - val_loss: 0.9041 - val_accuracy: 0.6053 - val_precision: 0.6017 - val_recall: 0.6227 - val_auc: 0.6852\n",
      "Epoch 14/200\n",
      "117/117 [==============================] - 14s 118ms/step - loss: 0.3659 - accuracy: 0.8363 - precision: 0.8237 - recall: 0.8558 - auc: 0.9145 - val_loss: 0.8857 - val_accuracy: 0.6176 - val_precision: 0.6089 - val_recall: 0.6576 - val_auc: 0.7007\n",
      "Epoch 15/200\n",
      "117/117 [==============================] - 14s 121ms/step - loss: 0.3548 - accuracy: 0.8435 - precision: 0.8291 - recall: 0.8654 - auc: 0.9192 - val_loss: 0.9083 - val_accuracy: 0.6124 - val_precision: 0.6074 - val_recall: 0.6357 - val_auc: 0.6942\n",
      "Epoch 16/200\n",
      "117/117 [==============================] - 14s 119ms/step - loss: 0.3531 - accuracy: 0.8405 - precision: 0.8202 - recall: 0.8723 - auc: 0.9198 - val_loss: 0.8630 - val_accuracy: 0.6298 - val_precision: 0.6364 - val_recall: 0.6059 - val_auc: 0.7102\n",
      "Epoch 17/200\n",
      "117/117 [==============================] - 14s 117ms/step - loss: 0.3454 - accuracy: 0.8475 - precision: 0.8304 - recall: 0.8734 - auc: 0.9242 - val_loss: 0.9023 - val_accuracy: 0.6227 - val_precision: 0.6173 - val_recall: 0.6460 - val_auc: 0.7029\n",
      "Epoch 18/200\n",
      "117/117 [==============================] - 14s 117ms/step - loss: 0.3467 - accuracy: 0.8438 - precision: 0.8265 - recall: 0.8702 - auc: 0.9233 - val_loss: 0.9181 - val_accuracy: 0.6118 - val_precision: 0.6110 - val_recall: 0.6150 - val_auc: 0.6956\n",
      "Epoch 19/200\n",
      "117/117 [==============================] - 14s 116ms/step - loss: 0.3347 - accuracy: 0.8520 - precision: 0.8328 - recall: 0.8809 - auc: 0.9286 - val_loss: 0.9325 - val_accuracy: 0.6085 - val_precision: 0.6197 - val_recall: 0.5620 - val_auc: 0.6930\n"
     ]
    }
   ],
   "source": [
    "# Adicionar o callback EarlyStopping\n",
    "early_stopping = callbacks.EarlyStopping(monitor='val_loss', patience=15, restore_best_weights=True)\n",
    "\n",
    "# Treinamento do modelo  \n",
    "history = siamese_model.fit([X_train_original, X_train_opposite], y_train, validation_data=([X_valid_original, X_valid_opposite], y_valid), batch_size=32, epochs=200, callbacks=[early_stopping])"
   ]
  },
  {
   "cell_type": "code",
   "execution_count": 35,
   "metadata": {},
   "outputs": [
    {
     "name": "stdout",
     "output_type": "stream",
     "text": [
      "30/30 [==============================] - 1s 26ms/step\n",
      "              precision    recall  f1-score   support\n",
      "\n",
      "           0       0.65      1.00      0.79       468\n",
      "           1       1.00      0.46      0.63       468\n",
      "\n",
      "    accuracy                           0.73       936\n",
      "   macro avg       0.83      0.73      0.71       936\n",
      "weighted avg       0.83      0.73      0.71       936\n",
      "\n"
     ]
    }
   ],
   "source": [
    "# Avaliar o modelo\n",
    "y_pred = (siamese_model.predict([X_test_original, X_test_opposite]) >  0.5)\n",
    "\n",
    "# Gerar o relatório de classificação\n",
    "print(classification_report(y_test, y_pred))"
   ]
  },
  {
   "cell_type": "code",
   "execution_count": 36,
   "metadata": {},
   "outputs": [
    {
     "data": {
      "image/png": "[encoded data removed]",
      "text/plain": [
       "<Figure size 640x480 with 2 Axes>"
      ]
     },
     "metadata": {},
     "output_type": "display_data"
    }
   ],
   "source": [
    "# Gerar a matriz de confusão\n",
    "plot_confusion_matrix(y_test, y_pred)"
   ]
  },
  {
   "cell_type": "code",
   "execution_count": 38,
   "metadata": {},
   "outputs": [
    {
     "data": {
      "image/png": "[encoded data removed]",
      "text/plain": [
       "<Figure size 1200x400 with 2 Axes>"
      ]
     },
     "metadata": {},
     "output_type": "display_data"
    }
   ],
   "source": [
    "# Plotar o histórico do treinamento\n",
    "plot_training_history(history)"
   ]
  }
 ],
 "metadata": {
  "kernelspec": {
   "display_name": "Python 3",
   "language": "python",
   "name": "python3"
  },
  "language_info": {
   "codemirror_mode": {
    "name": "ipython",
    "version": 3
   },
   "file_extension": ".py",
   "mimetype": "text/x-python",
   "name": "python",
   "nbconvert_exporter": "python",
   "pygments_lexer": "ipython3",
   "version": "3.10.11"
  }
 },
 "nbformat": 4,
 "nbformat_minor": 2
}
